{
  "nbformat": 4,
  "nbformat_minor": 0,
  "metadata": {
    "kernelspec": {
      "display_name": "Python 3",
      "language": "python",
      "name": "python3"
    },
    "language_info": {
      "codemirror_mode": {
        "name": "ipython",
        "version": 3
      },
      "file_extension": ".py",
      "mimetype": "text/x-python",
      "name": "python",
      "nbconvert_exporter": "python",
      "pygments_lexer": "ipython3",
      "version": "3.7.3"
    },
    "colab": {
      "name": "python_refresher_assignment.ipynb",
      "provenance": []
    }
  },
  "cells": [
    {
      "cell_type": "markdown",
      "metadata": {
        "id": "KEMq9QQa8kU4"
      },
      "source": [
        "<h2>Problem 1: Simple string manipulation</h2>"
      ]
    },
    {
      "cell_type": "markdown",
      "metadata": {
        "id": "HUfqnUpO8kU9"
      },
      "source": [
        "Equity data providers often add exchange information to a ticker symbol when reporting pricing or other data (primarily to resolve cross-exchange ambiguities). Reuters uses a coding scheme known as Reuters Instrument Code (RIC) where exchange information is added to the ticker following a dot at the end of the ticker symbol.\n",
        "\n",
        "For example, the RIC IBM.N indicates that a data item corresponds to IBM on the NYSE, IBM.L indicates that a data item corresponds to IBM on the London Stock Exchange, VOD.OQ for Vodafone on the NASDAQ stock exchange, etc.\n",
        "\n",
        "Write a program that takes as input a Reuters RIC and separates out the ticker and the exchange. You may assume:\n",
        "\n",
        "1. that the only \"non-letter\" character in the ticker is the dot and there will be only one dot\n",
        "\n",
        "2. that every ticker has an exchange symbol (i.e., IBM.N and not IBM)\n",
        "\n",
        "3. that the tickers and exchanges are valid (you don't need to check if the exchange identifer is valid)\n",
        "\n"
      ]
    },
    {
      "cell_type": "markdown",
      "metadata": {
        "id": "-bK71taW8kVF"
      },
      "source": [
        "<h3>Test your code with the following test examples</h3>\n",
        "\n",
        "<h4>Example 1</h4>\n",
        "Please enter a Reuters RIC symbol: VOD.OQ\n",
        "<br>\n",
        "The traded exchange for VOD is OQ\n",
        "<p>\n",
        "<h4>Example 2</h4>\n",
        "Please enter a Reuters RIC symbol: IBM.L\n",
        "<br>\n",
        "The traded exchange for IBM is L\n",
        "<h4>Example 3</h4>\n",
        "Please enter a Reuters RIC symbol: GOOG.OQ\n",
        "<br>\n",
        "The traded exchange for GOOG is OQ"
      ]
    },
    {
      "cell_type": "code",
      "metadata": {
        "id": "t292DuFe8kVN",
        "colab": {
          "base_uri": "https://localhost:8080/",
          "height": 35
        },
        "outputId": "1aab7185-9832-4d84-e3ed-c97d0756f230"
      },
      "source": [
        "#Different ways of constructing a dictionary\n",
        "a = dict(cat='meow', dog = 'woof', chicken = 'pocpoc')\n",
        "b = {'cat':'meow', 'dog': 'woof', 'chicken': 'pocpoc'}\n",
        "c = dict(zip(['cat','dog','chicken'],['meow','woof','pocpoc']))\n",
        "\n",
        "a == b == c"
      ],
      "execution_count": null,
      "outputs": [
        {
          "output_type": "execute_result",
          "data": {
            "text/plain": [
              "True"
            ]
          },
          "metadata": {
            "tags": []
          },
          "execution_count": 8
        }
      ]
    },
    {
      "cell_type": "code",
      "metadata": {
        "id": "A3TAl5cI93ah",
        "colab": {
          "base_uri": "https://localhost:8080/",
          "height": 35
        },
        "outputId": "05b6443b-75ff-4368-8b2c-11d87c755b1e"
      },
      "source": [
        "RIC_index = {'VOD.OQ':'OQ','IBM.L':'L','GOOG.OQ':'OQ'}\n",
        "RIC_symbol = {code:symbol for symbol, code in RIC_index.items()}\n",
        "RIC_symbol"
      ],
      "execution_count": null,
      "outputs": [
        {
          "output_type": "execute_result",
          "data": {
            "text/plain": [
              "{'L': 'IBM.L', 'OQ': 'GOOG.OQ'}"
            ]
          },
          "metadata": {
            "tags": []
          },
          "execution_count": 13
        }
      ]
    },
    {
      "cell_type": "code",
      "metadata": {
        "id": "tKNS5hmGDRS3"
      },
      "source": [
        "string = 'hello python world , i'm a beginner'\n",
        "\n",
        "def substring_after(s, delim):\n",
        "    return s.partition(delim)[2]"
      ],
      "execution_count": null,
      "outputs": []
    },
    {
      "cell_type": "markdown",
      "metadata": {
        "id": "Rtb-s80F8kVg"
      },
      "source": [
        "<h2>Problem 2: Simple Arithmetic and string formatting</h2>\n",
        "Write a program that converts an amount given in a foreign currency into USD. Your program should input the foreign currency symbol, the amount in foreign currency being converted, and the exchange rate to USD. Your program should print out the equivalent amount in USD (including the $ symbol). \n",
        "\n",
        "<b>You will need to research string formatting on your own!</b>\n",
        "\n",
        "Example:\n",
        "\n",
        "Please enter the foreign currency symbol: EUR<br>\n",
        "Please enter the amount in EUR: 1.11<br>\n",
        "Please enter the exchange rate (1 EUR to USD): 100.00<br>\n",
        "The equivalent USD amount is: $111.00 <br>\n",
        "\n",
        "Notes:\n",
        "\n",
        "1. Your output should be formatted correctly with a dollar sign and with cents rounded up to two decimal places \n",
        "\n",
        "2. Assume that the input is in the right format. I.e., when a number is requested, the user will enter a number (in other words, no error checking is necessary)"
      ]
    },
    {
      "cell_type": "code",
      "metadata": {
        "id": "Gj3o83Eu8kVj"
      },
      "source": [
        "#PROBLEM 2 SOLUTION\n"
      ],
      "execution_count": null,
      "outputs": []
    },
    {
      "cell_type": "markdown",
      "metadata": {
        "id": "r3cTBOH68kVx"
      },
      "source": [
        "<h1>Problem 3:</h1>\n",
        "Often, when dealing with data, continuous features are converted into categorical ones. Write a function <i><span style=\"color:red\">encode_array</style></i> that converts continuous data into categorical data using a conversion scheme. \n",
        "\n",
        "For example:\n",
        "if:<br>\n",
        "input_array = (17,5,36,22,54,34,19,65,102)\n",
        "\n",
        "and tha categorical scheme is:<br>\n",
        "category_limits = (10,20,30,40,50,60,70,80)<br>\n",
        "\n",
        "* values less than 10 are in category 0, values between 10 (inclusive) and less than 20 are in category 1, etc. Values greater than or equal to 80 are in category 8.\n",
        "\n",
        "and your function call is:<br>\n",
        "encode_array(input_array,category_limits)\n",
        "\n",
        "the output should be:<br>\n",
        "[1, 0, 3, 2, 5, 3, 1, 6, 8]\n",
        "\n",
        "Notes:\n",
        "\n",
        "1. Assume that the category limits are in the form of a list as in the example above\n",
        "\n",
        "2. There are many ways to write this function but you must encapsulate the encode function inside the encode_array function. Use the template below as a guideline\n",
        "\n",
        "3. If category_limits is an empty list (or tuple), your function should return a list of all zeros \n",
        "\n",
        "4. If input_array is an empty list (or tuple), your function should return an empty list\n",
        "\n",
        "5. You might find the <a href=\"http://book.pythontips.com/en/latest/for_-_else.html\">for ... else ...</a> structure useful for this problem "
      ]
    },
    {
      "cell_type": "code",
      "metadata": {
        "id": "Xmcb_Q-38kV1"
      },
      "source": [
        "#PROBLEM 3 SOLUTION\n",
        "def encode_array(input_array,category_limits):\n",
        "    def encode(input_value,category_limits):\n",
        "        "
      ],
      "execution_count": null,
      "outputs": []
    },
    {
      "cell_type": "code",
      "metadata": {
        "id": "oxEu4-qQ8kV9"
      },
      "source": [
        ""
      ],
      "execution_count": null,
      "outputs": []
    },
    {
      "cell_type": "code",
      "metadata": {
        "id": "SLafeduw8kWG"
      },
      "source": [
        "#Test your code with the following examples\n",
        "input_array = (17,5,36,22,54,34,19,65,102)\n",
        "category_limits = (10,20,30,40,50,60,70,80)\n",
        "encode_array(input_array,category_limits) #should return [1, 0, 3, 2, 5, 3, 1, 6, 8]\n",
        "\n",
        "input_array = (17,5,36,22,54,34,19,65,102)\n",
        "category_limits = ()\n",
        "encode_array(input_array,category_limits) #should return [0, 0, 0, 0, 0, 0, 0, 0, 0]\n",
        "\n",
        "input_array = ()\n",
        "category_limits = (10,20,30,40,50,60,70,80)\n",
        "encode_array(input_array,category_limits) #should return []\n",
        "\n"
      ],
      "execution_count": null,
      "outputs": []
    },
    {
      "cell_type": "code",
      "metadata": {
        "id": "jmmdbpIs8kWV"
      },
      "source": [
        ""
      ],
      "execution_count": null,
      "outputs": []
    },
    {
      "cell_type": "markdown",
      "metadata": {
        "id": "dKlOgBJU8kWc"
      },
      "source": [
        "<h1>Problem 4: Word counts</h1>\n",
        "Write a function <span style=\"color:red\">word_count</span> that takes a text string as an argument and returns a dictionary containing the count of words in that string\n",
        "\n",
        "For example: \n",
        "\n",
        "For the  string \"It was the best of times it was the worst of times\", your function should return the following dictionary:\n",
        "\n",
        "{'It': 1,\n",
        " 'best': 1,\n",
        " 'it': 1,\n",
        " 'of': 2,\n",
        " 'the': 2,\n",
        " 'times': 2,\n",
        " 'was': 2,\n",
        " 'worst': 1}\n",
        " \n",
        " Notes:\n",
        " \n",
        " 1. Assume that there is no punctuation, not even the end of sentence period, in the string, only words separated by spaces. \n",
        " \n",
        " 2. The function <span style=\"color:red\">split</span> splits a string on spaces. An example call of the function is: <span style=\"color:red\">\"hello fellow\".split()</span> which will return the list <span style=\"color:red\">['hello', 'fellow']</span>\n",
        " \n",
        " 3. Treat words with different cases as different words (\"hello\" and \"Hello\" are not the same word)\n",
        " \n",
        " 4. You might find the <a href=\"http://book.pythontips.com/en/latest/for_-_else.html\">for ... else ...</a> structure useful for this problem \n",
        " \n",
        " 5. If the string is empty, the function should return an empty dictionary"
      ]
    },
    {
      "cell_type": "code",
      "metadata": {
        "id": "zMft8bp58kWf"
      },
      "source": [
        "#PROBLEM 4 SOLUTION\n",
        "def word_count(text):\n",
        "\n"
      ],
      "execution_count": null,
      "outputs": []
    },
    {
      "cell_type": "code",
      "metadata": {
        "id": "6KPTVlS98kWo"
      },
      "source": [
        "#test your function with the following sample data\n",
        "\n",
        "#Should return {'It': 1, 'best': 1, 'it': 1, 'of': 2, 'the': 2, 'times': 2, 'was': 2, 'worst': 1}\n",
        "text1 = \"It was the best of times it was the worst of times\"\n",
        "word_count(text1)\n",
        "\n",
        "#Should return {}\n",
        "text1 = \"\"\n",
        "word_count(text1)\n"
      ],
      "execution_count": null,
      "outputs": []
    },
    {
      "cell_type": "markdown",
      "metadata": {
        "id": "3OoPqg5j8kWz"
      },
      "source": [
        "<h1>Problem 5: word encodings and vocabulary</h1>\n",
        "Many text mining problems use word encodings as an input to the analytic process. The idea behind word encodings is very simple: a corpus of documents (corpus = \"many documents\" in simple English!) contains a vocabulary (the set of words used across all documents). The vocabulary is textual (\"green\", \"people\", \"carrots\") but data analysis works better with numeric data. The solution is to replace each word with a numeric code. For example, if the corpus contains two documents:\n",
        "\n",
        "doc1 = \"it was the best of times it was the worst of times\"<br>\n",
        "doc2 = \"The good times of today are the sad thoughts of tomorrow\"\n",
        "\n",
        "Then we can represent word encodings by the following dictionary:\n",
        "\n",
        "{'are': 9,\n",
        " 'best': 3,\n",
        " 'good': 7,\n",
        " 'it': 0,\n",
        " 'of': 4,\n",
        " 'sad': 10,\n",
        " 'the': 2,\n",
        " 'thoughts': 11,\n",
        " 'times': 5,\n",
        " 'today': 8,\n",
        " 'tomorrow': 12,\n",
        " 'was': 1,\n",
        " 'worst': 6}\n",
        " \n",
        " If you look at the dictionary carefully, the encoding process should be very clear. \"it\" was the first word in the first document and it was encoded as a 0. \"was\" was the second word and it was encoded as a 1. And so on. \n",
        " \n",
        " Write a function <span style=\"color:blue\">vocabulary</span> that takes a list of documents as an argument and returns a dictionary containing the encoded vocabulary\n",
        " \n",
        " Notes:\n",
        " \n",
        " 1. Assume that each document is a single text string containing words separated by spaces and with absolutely no punctuation\n",
        "\n",
        "2. If the corpus is empty, the function should return an empty dictionary\n",
        " "
      ]
    },
    {
      "cell_type": "code",
      "metadata": {
        "id": "HxUuOgvh8kW2"
      },
      "source": [
        "#PROBLEM 5 SOLUTION\n",
        "def vocabulary(corpus):\n",
        "\n",
        "\n",
        "    "
      ],
      "execution_count": null,
      "outputs": []
    },
    {
      "cell_type": "code",
      "metadata": {
        "id": "DqZdiZ4l8kW9"
      },
      "source": [
        "#Test your function with the following example. \n",
        "#Should return: \n",
        "#{'are': 9, 'best': 3, 'good': 7, 'it': 0, 'of': 4, 'sad': 10, 'the': 2, 'thoughts': 11, 'times': 5, 'today': 8, 'tomorrow': 12, 'was': 1, 'worst': 6}\n",
        "doc1 = \"it was the best of times it was the worst of times\"\n",
        "doc2 = \"the good times of today are the sad thoughts of tomorrow\"\n",
        "\n",
        "vocabulary([doc1,doc2])\n"
      ],
      "execution_count": null,
      "outputs": []
    },
    {
      "cell_type": "code",
      "metadata": {
        "id": "rCEGjnA98kXH"
      },
      "source": [
        ""
      ],
      "execution_count": null,
      "outputs": []
    },
    {
      "cell_type": "markdown",
      "metadata": {
        "id": "0B_mzdMm8kXN"
      },
      "source": [
        "<h1>Problem 6: word_vectors</h1>\n",
        "The  <span style=\"color:red\">vocabulary</span> function returns a dictionary containing the word encoded vocabulary associated with the corpus. Once the encoding is done, each document can be replaced by a <span style=\"color:blue\">word vector</span> that indicates which words (from the vocabulary) are present in the document and with what frequency. For example, given the corpus:\n",
        "\n",
        "doc1 = \"it was the best of times it was the worst of times\"\n",
        "doc2 = \"The good times of today are the sad thoughts of tomorrow\"\n",
        "\n",
        "the word vector corresponding to doc1 is:\n",
        "\n",
        "[2, 2, 2, 1, 2, 2, 1, 0, 0, 0, 0, 0, 0]\n",
        "\n",
        "Note that the length of the vector is equal to the length of the entire vocabulary. Each location in the word vector corresponds to the code for the corresponding word in the vocabulary. The value at each location is the frequency of the eord in the document. Thus, location 0 corresponds to the word \"it\" which occurs twice in the doc1. Location 3 corresponds to \"best\" which occurs once in doc1. \n",
        "\n",
        "Write a function <span style=\"color:red\">word_vectors</span> that takes a list of texts as an argument and returns a list of word vectors. \n",
        "\n",
        "Notes:\n",
        "\n",
        "1. Use the word_count function to get word frequencies\n",
        "\n",
        "2. Use the vocabulary function to get the encoded vocabulary for the corpus\n",
        "\n",
        "3. You can construct a list of zeros of a given length using <span style=\"color:blue\">[0]*n</span> where n is an integer. <span style=\"color:blue\">[0] * len(vocabulary)</span> will return a list of zeros of the length of the vocabulary. Create this list for each document and update individual locations by their corresponding frequencies in the document"
      ]
    },
    {
      "cell_type": "code",
      "metadata": {
        "id": "gjDQOEc38kXQ"
      },
      "source": [
        "[0]*6"
      ],
      "execution_count": null,
      "outputs": []
    },
    {
      "cell_type": "code",
      "metadata": {
        "id": "shoouUky8kXY"
      },
      "source": [
        "#PROBLEM 6 SOLUTION\n",
        "def word_vectors(corpus):\n",
        "    vocab = vocabulary(corpus)\n",
        "\n",
        "            \n",
        "            "
      ],
      "execution_count": null,
      "outputs": []
    },
    {
      "cell_type": "code",
      "metadata": {
        "id": "WmTZ_lJo8kXf"
      },
      "source": [
        "#Test your code with the following example\n",
        "\"\"\"\n",
        "The function should return a list of two lists:\n",
        "[[2, 2, 2, 1, 2, 2, 1, 0, 0, 0, 0, 0, 0],\n",
        " [0, 0, 2, 0, 2, 1, 0, 1, 1, 1, 1, 1, 1]]\n",
        "\"\"\"\n",
        "doc1 = \"it was the best of times it was the worst of times\"\n",
        "doc2 = \"the good times of today are the sad thoughts of tomorrow\"\n",
        "word_vectors([doc1,doc2])\n",
        "\n",
        "\n"
      ],
      "execution_count": null,
      "outputs": []
    },
    {
      "cell_type": "code",
      "metadata": {
        "id": "UvOqDatq8kXm"
      },
      "source": [
        ""
      ],
      "execution_count": null,
      "outputs": []
    }
  ]
}